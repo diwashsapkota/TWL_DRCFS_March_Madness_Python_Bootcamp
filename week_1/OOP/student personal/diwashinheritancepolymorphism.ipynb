{
 "cells": [
  {
   "cell_type": "code",
   "execution_count": 1,
   "id": "30135a26",
   "metadata": {},
   "outputs": [],
   "source": [
    "from datetime import date"
   ]
  },
  {
   "cell_type": "code",
   "execution_count": 2,
   "id": "10f8fe7d",
   "metadata": {},
   "outputs": [],
   "source": [
    "class Person:\n",
    "    def __init__(self, name, dob, phone, email, address):\n",
    "        self.name = name\n",
    "        self.dob = dob\n",
    "        self.phone = phone\n",
    "        self.email = email\n",
    "        self.address = address\n",
    "    \n",
    "    def calc_age(self):\n",
    "        today = date.today()\n",
    "        age = today.year - self.dob.year - ((today.month, today.day) < (self.dob.month, self.dob.day))\n",
    "        return \"The age is: \" + str(age)"
   ]
  },
  {
   "cell_type": "code",
   "execution_count": null,
   "id": "43db14a4",
   "metadata": {},
   "outputs": [],
   "source": [
    "class Employee:\n",
    "    "
   ]
  },
  {
   "cell_type": "code",
   "execution_count": null,
   "id": "1eb47d66",
   "metadata": {},
   "outputs": [],
   "source": [
    "Person Greet, Employee Greet, Gender"
   ]
  }
 ],
 "metadata": {
  "kernelspec": {
   "display_name": "Python 3 (ipykernel)",
   "language": "python",
   "name": "python3"
  },
  "language_info": {
   "codemirror_mode": {
    "name": "ipython",
    "version": 3
   },
   "file_extension": ".py",
   "mimetype": "text/x-python",
   "name": "python",
   "nbconvert_exporter": "python",
   "pygments_lexer": "ipython3",
   "version": "3.11.1"
  }
 },
 "nbformat": 4,
 "nbformat_minor": 5
}
