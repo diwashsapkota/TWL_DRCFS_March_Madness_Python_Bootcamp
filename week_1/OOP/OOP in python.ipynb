{
 "cells": [
  {
   "cell_type": "markdown",
   "id": "2b862d53",
   "metadata": {},
   "source": [
    "# Object Oriented Programming in Python\n",
    "Object-oriented programming is a programming paradigm that revolves around the concept of \"objects,\" which are instances of a class that encapsulate data and behavior. Python is an object-oriented language that supports the creation of classes and objects.\n",
    "\n",
    "\n",
    "## What is class in python?\n",
    "In Python, a class is like a blueprint for creating objects. A class defines the attributes (i.e. variables) and methods (i.e. functions) that an object will have.\n",
    "\n",
    "For example, consider a simple example of a person. <b> What could be the attributes that defines a person?</b>. To name a few, a person can include attributes like name, age, gender, height, weight, etc.\n",
    "\n",
    "We can create a class `person` that can contain the following attributes and create a few objects out of the class blueprint. "
   ]
  },
  {
   "cell_type": "code",
   "execution_count": null,
   "id": "d3032183",
   "metadata": {},
   "outputs": [],
   "source": [
    "class Person:\n",
    "    def __init__(self, name, age, gender, height, weight):\n",
    "        self.name = name\n",
    "        self.age = age\n",
    "        self.gender = gender\n",
    "        self.height = height\n",
    "        self.weight = weight\n",
    "        \n",
    "        "
   ]
  },
  {
   "cell_type": "markdown",
   "id": "a2fa2651",
   "metadata": {},
   "source": [
    "In this implementation, the Person class has five attributes: name, age, gender, height, and weight.\n",
    "\n",
    "The \\_\\_init__ method is a special method that gets called when you create a new instance of the class. It takes three arguments: name, age, gender, height and weight. Inside the \\_\\_init__ method, we assign these arguments to instance variables using the self keyword. This special method is called constructor method.\n",
    "\n",
    "Convention to define a class: use PascalCase naming convention to write a class name. give 2 line breaks before and after defining a class in scripts.\n"
   ]
  },
  {
   "cell_type": "markdown",
   "id": "d3fee3f8",
   "metadata": {},
   "source": [
    "## What is self in the \\_\\_init__() method?\n",
    "In Python, self refers to the instance of the class that a method is being called on. When you create an object from a class, that object is an instance of that class, and it has its own unique set of attributes and behaviors. The self keyword is used to refer to that particular instance of the class.\n",
    "\n",
    "In this example, the \\_\\_init__ method takes a self parameter. When you call this method on an instance of the Person class, you don't need to pass in the self parameter explicitly - Python takes care of that for you. For example, if you create an instance of the Person class and call the \\_\\_init__ method, like this:"
   ]
  },
  {
   "cell_type": "code",
   "execution_count": null,
   "id": "2351fa01",
   "metadata": {},
   "outputs": [],
   "source": [
    "person1 = Person(\"Rajkumar\", 25, \"Male\", 1.6, 60)\n",
    "person2 = Person(\"Rajkumari\", 30, \"Female\", 1.8, 80)"
   ]
  },
  {
   "cell_type": "markdown",
   "id": "0169c076",
   "metadata": {},
   "source": [
    "Here, we've created two Person objects named person1 and person2. Each object has its own name, age, and gender attributes.\n",
    "\n",
    "We can access these attributes using dot notation:"
   ]
  },
  {
   "cell_type": "code",
   "execution_count": null,
   "id": "799d3e3b",
   "metadata": {},
   "outputs": [],
   "source": [
    "person1.name, person1.age, person2.gender"
   ]
  },
  {
   "cell_type": "markdown",
   "id": "c0d37fcf",
   "metadata": {},
   "source": [
    "In addition to attributes, classes can also have methods. These are functions that belong to the class and can be called on instances of the class. For example, we could add a method to the Person class that prints out a greeting:"
   ]
  },
  {
   "cell_type": "code",
   "execution_count": null,
   "id": "a0a747a2",
   "metadata": {},
   "outputs": [],
   "source": [
    "class Person:\n",
    "    def __init__(self, name, age, gender, height, weight):\n",
    "        self.name = name\n",
    "        self.age = age\n",
    "        self.gender = gender\n",
    "        self.height = height\n",
    "        self.weight = weight\n",
    "\n",
    "    def say_hello(self):\n",
    "        print(f\"Hello, my name is {self.name}. I am {self.age} years old.\")"
   ]
  },
  {
   "cell_type": "code",
   "execution_count": null,
   "id": "0dc5f160",
   "metadata": {},
   "outputs": [],
   "source": [
    "person1 = Person(\"Radha\", 25, \"female\", 1.6, 60)"
   ]
  },
  {
   "cell_type": "code",
   "execution_count": null,
   "id": "b29f3bd2",
   "metadata": {},
   "outputs": [],
   "source": [
    "person1.say_hello()"
   ]
  },
  {
   "cell_type": "code",
   "execution_count": null,
   "id": "8f9ed8c6",
   "metadata": {},
   "outputs": [],
   "source": [
    "class Person:\n",
    "    def __init__(self, name, age, gender, height, weight):\n",
    "        self.name = name\n",
    "        self.age = age\n",
    "        self.gender = gender\n",
    "        self.height = height\n",
    "        self.weight = weight\n",
    "\n",
    "    def say_hello(self):\n",
    "        print(f\"Hello, my name is {self.name}. I am {self.age} years old.\")\n",
    "\n",
    "    def get_bmi(self):\n",
    "        return self.weight / (self.height ** 2)"
   ]
  },
  {
   "cell_type": "code",
   "execution_count": null,
   "id": "93259c92",
   "metadata": {},
   "outputs": [],
   "source": [
    "person1 = Person(\"Dhan Maya\", 25, \"female\", 1.6, 60)\n",
    "person2 = Person(\"Dhan Bahadur\", 30, \"male\", 1.8, 80)"
   ]
  },
  {
   "cell_type": "code",
   "execution_count": null,
   "id": "7ddd8f2c",
   "metadata": {},
   "outputs": [],
   "source": [
    "person1.say_hello()"
   ]
  },
  {
   "cell_type": "code",
   "execution_count": null,
   "id": "a75725b6",
   "metadata": {},
   "outputs": [],
   "source": [
    "person2.say_hello()"
   ]
  },
  {
   "cell_type": "code",
   "execution_count": null,
   "id": "e08f557d",
   "metadata": {},
   "outputs": [],
   "source": [
    "person1.get_bmi(), person2.get_bmi()"
   ]
  },
  {
   "cell_type": "markdown",
   "id": "fe48f51f",
   "metadata": {},
   "source": [
    "When learning object-oriented programming (OOP) for the first time, understanding the concepts of self, methods, and constructors can be a bit confusing. Here is a brief explanation of each concept:\n",
    "\n",
    "1. Self:<br>\n",
    "In OOP, the term \"self\" refers to the instance of a class that is currently being operated on. It is a reference to the object itself. When we create an object from a class, the object has its own unique properties and values, which we can access using the \"self\" keyword. In other words, \"self\" is a way for us to access the attributes and methods of an object from within the object itself.\n",
    "\n",
    "\n",
    "2. Methods:<br>\n",
    "A method is a function that is associated with a class or an object. It represents a behavior or an action that the object can perform. In Python, methods are defined inside a class and can access the object's attributes using the \"self\" keyword. For example, if we have a Person class, we might define a method called \"speak\" that allows the person to say something.\n",
    "\n",
    "\n",
    "3. Constructors:<br>\n",
    "A constructor is a special type of method that is called when an object is created from a class. It is used to initialize the object's attributes and values. In Python, the constructor method is called \"init\" and takes in the \"self\" parameter, as well as any other parameters that we want to use to initialize the object's attributes. For example, if we have a Person class, we might define a constructor that takes in the person's name, age, and gender and initializes those attributes for the object."
   ]
  },
  {
   "cell_type": "markdown",
   "id": "a612df96",
   "metadata": {},
   "source": [
    "# Always Remember\n",
    "In Python, a class is like a blueprint for creating objects. A class defines the attributes (i.e. variables) and methods (i.e. functions) that an object will have, but it doesn't actually create the object itself. To create an object, you need to create an instance of the class.\n",
    "\n",
    "Here's an example Dog class:"
   ]
  },
  {
   "cell_type": "code",
   "execution_count": null,
   "id": "f7f379d1",
   "metadata": {},
   "outputs": [],
   "source": [
    "class Dog:\n",
    "    def __init__(self, name, breed, age):\n",
    "        self.name = name\n",
    "        self.breed = breed\n",
    "        self.age = age\n",
    "\n",
    "    def bark(self):\n",
    "        print(f\"{self.name} says woof!\")\n",
    "        \n",
    "    def sit(self):\n",
    "        print(f\"{self.name} is sitting!!\")\n",
    "        \n",
    "    def greet(self):\n",
    "        print(f\"{self.name} says Woof Hooman!\")\n"
   ]
  },
  {
   "cell_type": "markdown",
   "id": "6ff11f2d",
   "metadata": {},
   "source": [
    "In this example, the Dog class has three attributes: name, breed, and age. The init method is a constructor, which is called when a new instance of the Dog class is created. The constructor takes in three parameters: name, breed, and age. It then sets the instance's name, breed, and age attributes to the values of those parameters.\n",
    "\n",
    "The Dog class also has a bark method, which simply prints out a message indicating that the dog has barked. The bark method takes in a self parameter, which refers to the instance of the Dog class that the method is being called on and same for sit and greet methods.\n",
    "\n",
    "To create an instance of the Dog class, you simply call the class like a function and pass in the required parameters:"
   ]
  },
  {
   "cell_type": "code",
   "execution_count": null,
   "id": "b67989c1",
   "metadata": {},
   "outputs": [],
   "source": [
    "my_dog = Dog(\"Kaley\", \"Golden Retriever\", 5)"
   ]
  },
  {
   "cell_type": "code",
   "execution_count": null,
   "id": "57d3c402",
   "metadata": {},
   "outputs": [],
   "source": [
    "my_dog.name, my_dog.breed, my_dog.age"
   ]
  },
  {
   "cell_type": "code",
   "execution_count": null,
   "id": "27b7b408",
   "metadata": {},
   "outputs": [],
   "source": [
    "my_dog.bark()"
   ]
  },
  {
   "cell_type": "code",
   "execution_count": null,
   "id": "00093027",
   "metadata": {},
   "outputs": [],
   "source": [
    "my_dog.sit()"
   ]
  },
  {
   "cell_type": "code",
   "execution_count": null,
   "id": "10fa503b",
   "metadata": {},
   "outputs": [],
   "source": [
    "my_dog.greet()"
   ]
  },
  {
   "cell_type": "code",
   "execution_count": null,
   "id": "6bc04c72",
   "metadata": {},
   "outputs": [],
   "source": []
  }
 ],
 "metadata": {
  "kernelspec": {
   "display_name": "Python 3 (ipykernel)",
   "language": "python",
   "name": "python3"
  },
  "language_info": {
   "codemirror_mode": {
    "name": "ipython",
    "version": 3
   },
   "file_extension": ".py",
   "mimetype": "text/x-python",
   "name": "python",
   "nbconvert_exporter": "python",
   "pygments_lexer": "ipython3",
   "version": "3.11.1"
  }
 },
 "nbformat": 4,
 "nbformat_minor": 5
}
